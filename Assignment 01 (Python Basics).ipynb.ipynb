{
 "cells": [
  {
   "cell_type": "markdown",
   "metadata": {},
   "source": [
    "# Part -1 Python Basics (Variables)"
   ]
  },
  {
   "cell_type": "markdown",
   "metadata": {},
   "source": [
    "1. Print Your Name with your Father name and Date of birth using suitable escape sequence charactor"
   ]
  },
  {
   "cell_type": "code",
   "execution_count": 10,
   "metadata": {},
   "outputs": [
    {
     "name": "stdout",
     "output_type": "stream",
     "text": [
      "Shayan Ali\n",
      "Muhammad Yousuf\n",
      "12-06-2007\n"
     ]
    }
   ],
   "source": [
    "print(\"Shayan Ali\\nMuhammad Yousuf\\n12-06-2007\")"
   ]
  },
  {
   "cell_type": "markdown",
   "metadata": {},
   "source": [
    "2. Write your small bio using variables and print it using print function"
   ]
  },
  {
   "cell_type": "code",
   "execution_count": 11,
   "metadata": {},
   "outputs": [
    {
     "name": "stdout",
     "output_type": "stream",
     "text": [
      "My name is Shayan\n",
      "My father name is yousuf\n",
      "I am 18 years old\n",
      "I am professional Graphic Desinger\n",
      "My hobby is playing cricket\n"
     ]
    }
   ],
   "source": [
    "print('My name is Shayan')\n",
    "print('My father name is yousuf')\n",
    "print('I am 18 years old')\n",
    "print('I am professional Graphic Desinger')\n",
    "print('My hobby is playing cricket')"
   ]
  },
  {
   "cell_type": "markdown",
   "metadata": {},
   "source": [
    "3. Write a program in which use all the operators we can use in Python"
   ]
  },
  {
   "cell_type": "code",
   "execution_count": 86,
   "metadata": {},
   "outputs": [
    {
     "name": "stdout",
     "output_type": "stream",
     "text": [
      "Arithmetic: 13 7 30 3.3333333333333335 3 1 1000\n",
      "Comparison: False True True False True False\n",
      "Logical: False True False\n",
      "Bitwise: 2 11 9 -11 20 5\n",
      "Assignment: 0\n",
      "Membership: True True\n",
      "Identity: True False True\n"
     ]
    }
   ],
   "source": [
    "a, b = 10, 3\n",
    "x, y = True, False\n",
    "lst = [1, 2, 3]\n",
    "m = [1, 2]; n = m; p = [1, 2]\n",
    "\n",
    "print(\"Arithmetic:\", a+b, a-b, a*b, a/b, a//b, a%b, a**b)\n",
    "print(\"Comparison:\", a==b, a!=b, a>b, a<b, a>=b, a<=b)\n",
    "print(\"Logical:\", x and y, x or y, not x)\n",
    "print(\"Bitwise:\", a&b, a|b, a^b, ~a, a<<1, a>>1)\n",
    "\n",
    "c = 5\n",
    "c+=2; c-=1; c*=2; c//=2; c%=3; c**=2\n",
    "print(\"Assignment:\", c)\n",
    "\n",
    "print(\"Membership:\", 2 in lst, 5 not in lst)\n",
    "print(\"Identity:\", m is n, m is p, m is not p)"
   ]
  },
  {
   "cell_type": "markdown",
   "metadata": {},
   "source": [
    "4. Completes the following steps of small task:\n",
    "    - Mention Marks of English , Islamiat and Maths out of 100 in 3 different variables\n",
    "    - Mention Variable of Total Marks and assign 300 to it\n",
    "    - Calculate Percentage"
   ]
  },
  {
   "cell_type": "code",
   "execution_count": 4,
   "metadata": {},
   "outputs": [
    {
     "name": "stdout",
     "output_type": "stream",
     "text": [
      "Obtained Marks: 270\n",
      "Total Marks: 300\n",
      "Percentage: 90.0 %\n"
     ]
    }
   ],
   "source": [
    "english = 85\n",
    "islamiat = 90\n",
    "maths = 95\n",
    "\n",
    "total_marks = 300\n",
    "\n",
    "obtained_marks = english + islamiat + maths\n",
    "\n",
    "percentage = (obtained_marks / total_marks) * 100\n",
    "\n",
    "print(\"Obtained Marks:\", obtained_marks)\n",
    "print(\"Total Marks:\", total_marks)\n",
    "print(\"Percentage:\", percentage, \"%\")"
   ]
  },
  {
   "cell_type": "markdown",
   "metadata": {},
   "source": [
    "# Part -2 Python Basics (Conditional Statements)"
   ]
  },
  {
   "cell_type": "markdown",
   "metadata": {},
   "source": [
    "1) A company decided to give bonus of 5% to employee if his/her year of service is more than 5 years.\n",
    "Ask user for their salary and year of service and print the net bonus amount."
   ]
  },
  {
   "cell_type": "code",
   "execution_count": 5,
   "metadata": {},
   "outputs": [
    {
     "name": "stdin",
     "output_type": "stream",
     "text": [
      "Enter your salary:  100000\n",
      "Enter your years of service:  7\n"
     ]
    },
    {
     "name": "stdout",
     "output_type": "stream",
     "text": [
      "Your bonus amount is: 5000.0\n"
     ]
    }
   ],
   "source": [
    "salary = float(input(\"Enter your salary: \"))\n",
    "years = int(input(\"Enter your years of service: \"))\n",
    "\n",
    "if years > 5:\n",
    "    bonus = salary * 0.05\n",
    "    print(\"Your bonus amount is:\", bonus)\n",
    "else:\n",
    "    print(\"No bonus, since your service is less than or equal to 5 years.\")"
   ]
  },
  {
   "cell_type": "markdown",
   "metadata": {},
   "source": [
    "\n",
    "2) Write a program to check whether a person is eligible for voting or not. (accept age from user) if age is greater than 17 eligible otherwise not eligible"
   ]
  },
  {
   "cell_type": "code",
   "execution_count": 7,
   "metadata": {},
   "outputs": [
    {
     "name": "stdin",
     "output_type": "stream",
     "text": [
      "Enter Your Age here 12\n"
     ]
    },
    {
     "name": "stdout",
     "output_type": "stream",
     "text": [
      "Sorry You are not eligible for voting\n"
     ]
    }
   ],
   "source": [
    "age = int(input(\"Enter Your Age here\"))\n",
    "if age > 17:\n",
    "    print('You are eligible for voting')\n",
    "else:\n",
    "    print('Sorry You are not eligible for voting')"
   ]
  },
  {
   "cell_type": "markdown",
   "metadata": {},
   "source": [
    "\n",
    "3) Write a program to check whether a number entered by user is even or odd."
   ]
  },
  {
   "cell_type": "code",
   "execution_count": 9,
   "metadata": {},
   "outputs": [
    {
     "name": "stdin",
     "output_type": "stream",
     "text": [
      "Enter a number:  3\n"
     ]
    },
    {
     "name": "stdout",
     "output_type": "stream",
     "text": [
      "The number is Odd.\n"
     ]
    }
   ],
   "source": [
    "num = int(input(\"Enter a number: \"))\n",
    "if num % 2 == 0:\n",
    "    print(\"The number is Even.\")\n",
    "else:\n",
    "    print(\"The number is Odd.\")"
   ]
  },
  {
   "cell_type": "markdown",
   "metadata": {},
   "source": [
    "4) Write a program to check whether a number is divisible by 7 or not.\n",
    "Show Answer"
   ]
  },
  {
   "cell_type": "code",
   "execution_count": 16,
   "metadata": {},
   "outputs": [
    {
     "name": "stdin",
     "output_type": "stream",
     "text": [
      "Enter a number:  0\n"
     ]
    },
    {
     "name": "stdout",
     "output_type": "stream",
     "text": [
      "0 is divisible by 7\n"
     ]
    }
   ],
   "source": [
    "num = int(input(\"Enter a number: \"))\n",
    "if num % 7 == 0:\n",
    "    print(num, \"is divisible by 7\")\n",
    "else:\n",
    "    print(num, \"is not divisible by 7\")"
   ]
  },
  {
   "cell_type": "markdown",
   "metadata": {},
   "source": [
    "5) Write a program to display \n",
    "\"Hello\" if a number entered by user is a multiple of five , otherwise print \"Bye\"."
   ]
  },
  {
   "cell_type": "code",
   "execution_count": 28,
   "metadata": {},
   "outputs": [
    {
     "name": "stdin",
     "output_type": "stream",
     "text": [
      "Enter a number:  15\n"
     ]
    },
    {
     "name": "stdout",
     "output_type": "stream",
     "text": [
      "Hello\n"
     ]
    }
   ],
   "source": [
    "pro = int(input(\"Enter a number: \"))\n",
    "if pro % 5 == 0:\n",
    "    print(\"Hello\")\n",
    "else:\n",
    "    print(\"Bye\")"
   ]
  },
  {
   "cell_type": "markdown",
   "metadata": {},
   "source": [
    "7) Write a program to display the last digit of a number.\n"
   ]
  },
  {
   "cell_type": "code",
   "execution_count": 33,
   "metadata": {},
   "outputs": [
    {
     "name": "stdin",
     "output_type": "stream",
     "text": [
      "Enter a number:  00979860\n"
     ]
    },
    {
     "name": "stdout",
     "output_type": "stream",
     "text": [
      "The last digit of is 0\n"
     ]
    }
   ],
   "source": [
    "num = int(input(\"Enter a number: \"))\n",
    "last_digit = num % 10\n",
    "print(\"The last digit of is\", last_digit)"
   ]
  },
  {
   "cell_type": "markdown",
   "metadata": {},
   "source": [
    "9) Take values of length and breadth of a rectangle from user and print if it is square or rectangle."
   ]
  },
  {
   "cell_type": "code",
   "execution_count": 36,
   "metadata": {},
   "outputs": [
    {
     "name": "stdin",
     "output_type": "stream",
     "text": [
      "Enter the length:  87398273\n",
      "Enter the breadth:  732653\n"
     ]
    },
    {
     "name": "stdout",
     "output_type": "stream",
     "text": [
      "It is a Rectangle\n"
     ]
    }
   ],
   "source": [
    "length = int(input(\"Enter the length: \"))\n",
    "breadth = int(input(\"Enter the breadth: \"))\n",
    "if length == breadth:\n",
    "    print(\"It is a Square\")\n",
    "else:\n",
    "    print(\"It is a Rectangle\")"
   ]
  },
  {
   "cell_type": "markdown",
   "metadata": {},
   "source": [
    "10) Take two int values from user and print greatest among them."
   ]
  },
  {
   "cell_type": "code",
   "execution_count": 38,
   "metadata": {},
   "outputs": [
    {
     "name": "stdin",
     "output_type": "stream",
     "text": [
      "Enter first number:  2\n",
      "Enter second number:  2\n"
     ]
    },
    {
     "name": "stdout",
     "output_type": "stream",
     "text": [
      "Both numbers are equal\n"
     ]
    }
   ],
   "source": [
    "a = int(input(\"Enter first number: \"))\n",
    "b = int(input(\"Enter second number: \"))\n",
    "if a > b:\n",
    "    print(a, \"is greater\")\n",
    "elif b > a:\n",
    "    print(b, \"is greater\")\n",
    "else:\n",
    "    print(\"Both numbers are equal\")"
   ]
  },
  {
   "cell_type": "markdown",
   "metadata": {},
   "source": [
    "11) A shop will give discount of 10% if the cost of purchased quantity is more than 1000.\n",
    "Ask user for quantity\n",
    "Suppose, one unit will cost 100.\n",
    "Judge and print total cost for user."
   ]
  },
  {
   "cell_type": "code",
   "execution_count": 41,
   "metadata": {},
   "outputs": [
    {
     "name": "stdin",
     "output_type": "stream",
     "text": [
      "Enter quantity:  1\n"
     ]
    },
    {
     "name": "stdout",
     "output_type": "stream",
     "text": [
      "Total cost is: 100\n"
     ]
    }
   ],
   "source": [
    "quantity = int(input(\"Enter quantity: \"))\n",
    "unit_price = 100\n",
    "total_cost = quantity * unit_price\n",
    "if total_cost > 1000:\n",
    "    discount = total_cost * 0.10   # 10% discount\n",
    "    total_cost = total_cost - discount\n",
    "print(\"Total cost is:\", total_cost)"
   ]
  },
  {
   "cell_type": "markdown",
   "metadata": {},
   "source": [
    "12) A school has following rules for grading system:\n",
    "\n",
    "a. Below 25 - F\n",
    "\n",
    "b. 25 to 45 - E\n",
    "\n",
    "c. 45 to 50 - D\n",
    "\n",
    "d. 50 to 60 - C\n",
    "\n",
    "e. 60 to 80 - B\n",
    "\n",
    "f. Above 80 - A\n",
    "\n",
    "Ask user to enter marks and print the corresponding grade."
   ]
  },
  {
   "cell_type": "code",
   "execution_count": 56,
   "metadata": {},
   "outputs": [
    {
     "name": "stdin",
     "output_type": "stream",
     "text": [
      "Enter Your Marks Here 99\n"
     ]
    },
    {
     "name": "stdout",
     "output_type": "stream",
     "text": [
      "Your Grade is A\n"
     ]
    }
   ],
   "source": [
    "marks = int(input(\"Enter Your Marks Here\"))\n",
    "if marks >= 80 :\n",
    "    print('Your Grade is A')\n",
    "elif marks >= 60 :\n",
    "    print('Your Grade is B')\n",
    "elif marks >= 50 :\n",
    "    print('Your Grade is C')\n",
    "elif marks >= 45 :\n",
    "    print('Your Grade is D')\n",
    "elif marks >= 25 :\n",
    "    print('Your Grade is E')\n",
    "else:\n",
    "    print('Your Grade is F')"
   ]
  },
  {
   "cell_type": "markdown",
   "metadata": {},
   "source": [
    "14)A student will not be allowed to sit in exam if his/her attendence is less than 75%.\n",
    "\n",
    "Take following input from user\n",
    "\n",
    "- Number of classes held\n",
    "\n",
    "- Number of classes attended.\n",
    "\n",
    "And print\n",
    "\n",
    "- percentage of class attended\n",
    "\n",
    "- Is student is allowed to sit in exam or not.\n"
   ]
  },
  {
   "cell_type": "code",
   "execution_count": 61,
   "metadata": {},
   "outputs": [
    {
     "name": "stdin",
     "output_type": "stream",
     "text": [
      "Enter number of classes held:  12\n",
      "Enter number of classes attended:  10\n"
     ]
    },
    {
     "name": "stdout",
     "output_type": "stream",
     "text": [
      "Attendance percentage is: 83.33333333333334 %\n",
      "Student is allowed to sit in exam\n"
     ]
    }
   ],
   "source": [
    "class_h = int(input(\"Enter number of classes held: \"))\n",
    "class_a = int(input(\"Enter number of classes attended: \"))\n",
    "attendance_percentage = (class_a / class_h) * 100\n",
    "print(\"Attendance percentage is:\", attendance_percentage, \"%\")\n",
    "if attendance_percentage >= 75:\n",
    "    print(\"Student is allowed to sit in exam\")\n",
    "else:\n",
    "    print(\"Student is NOT allowed to sit in exam\")"
   ]
  },
  {
   "cell_type": "markdown",
   "metadata": {},
   "source": [
    "15) Modify the above question to allow student to sit if he/she has medical cause. Ask user if he/she has medical cause or not ( 'Y' or 'N' ) and print accordingly."
   ]
  },
  {
   "cell_type": "code",
   "execution_count": 67,
   "metadata": {},
   "outputs": [
    {
     "name": "stdin",
     "output_type": "stream",
     "text": [
      "Enter number of classes held:  12\n",
      "Enter number of classes attended:  10\n"
     ]
    },
    {
     "name": "stdout",
     "output_type": "stream",
     "text": [
      "Attendance percentage is: 83.33333333333334 %\n"
     ]
    },
    {
     "name": "stdin",
     "output_type": "stream",
     "text": [
      "Do you have a medical cause? (yes/no):  yes\n"
     ]
    },
    {
     "name": "stdout",
     "output_type": "stream",
     "text": [
      "Student is allowed to sit in exam\n"
     ]
    }
   ],
   "source": [
    "class_h = int(input(\"Enter number of classes held: \"))\n",
    "class_a = int(input(\"Enter number of classes attended: \"))\n",
    "attendance_percentage = (class_a / class_h) * 100\n",
    "print(\"Attendance percentage is:\", attendance_percentage, \"%\")\n",
    "medical_cause = input(\"Do you have a medical cause? (yes/no): \")\n",
    "if attendance_percentage >= 75:\n",
    "    print(\"Student is allowed to sit in exam\")\n",
    "    \n",
    "elif medical_cause.upper() == \"Y\":\n",
    "    print(\"Student is allowed to sit in exam due to medical cause\")\n",
    "else:\n",
    "    print(\"Student is NOT allowed to sit in exam\")"
   ]
  },
  {
   "cell_type": "markdown",
   "metadata": {},
   "source": [
    "16) Write a program to check if a year is leap year or not.\n",
    "\n",
    "If a year is divisible by 4 then it is leap year but if the year is century year like 2000, 1900, 2100 then it must be divisible by 400."
   ]
  },
  {
   "cell_type": "code",
   "execution_count": 70,
   "metadata": {},
   "outputs": [
    {
     "name": "stdin",
     "output_type": "stream",
     "text": [
      "Enter a year:  2036\n"
     ]
    },
    {
     "name": "stdout",
     "output_type": "stream",
     "text": [
      "2036 is a Leap Year\n"
     ]
    }
   ],
   "source": [
    "year = int(input(\"Enter a year: \"))\n",
    "if (year % 400 == 0):\n",
    "    print(year, \"is a Leap Year\")\n",
    "elif (year % 100 == 0):\n",
    "    print(year, \"is NOT a Leap Year\")\n",
    "elif (year % 4 == 0):\n",
    "    print(year, \"is a Leap Year\")\n",
    "else:\n",
    "    print(year, \"is NOT a Leap Year\")"
   ]
  },
  {
   "cell_type": "markdown",
   "metadata": {},
   "source": [
    "17) Ask user to enter age, gender ( M or F ), marital status ( Y or N ) and then using following rules print their place of service.\n",
    "\n",
    "if employee is female, then she will work only in urban areas.\n",
    "\n",
    "if employee is a male and age is in between 20 to 40 then he may work in anywhere\n",
    "\n",
    "if employee is male and age is in between 40 t0 60 then he will work in urban areas only.\n",
    "\n",
    "And any other input of age should print \"ERROR\""
   ]
  },
  {
   "cell_type": "code",
   "execution_count": 79,
   "metadata": {},
   "outputs": [
    {
     "name": "stdin",
     "output_type": "stream",
     "text": [
      "Enter age:  29\n",
      "Enter gender (M/F):  m\n",
      "Enter marital status (Y/N):  y\n"
     ]
    },
    {
     "name": "stdout",
     "output_type": "stream",
     "text": [
      "He may work anywhere\n"
     ]
    }
   ],
   "source": [
    "# Input from user\n",
    "age = int(input(\"Enter age: \"))\n",
    "gender = input(\"Enter gender (M/F): \")\n",
    "marital_status = input(\"Enter marital status (Y/N): \")\n",
    "\n",
    "# Apply rules\n",
    "if gender.upper() == \"F\":\n",
    "    print(\"She will work only in urban areas\")\n",
    "elif gender.upper() == \"M\":\n",
    "    if 20 <= age <= 40:\n",
    "        print(\"He may work anywhere\")\n",
    "    elif 40 < age <= 60:\n",
    "        print(\"He will work only in urban areas\")\n",
    "    else:\n",
    "        print(\"ERROR\")\n",
    "else:\n",
    "    print(\"Invalid gender input\")"
   ]
  },
  {
   "cell_type": "markdown",
   "metadata": {},
   "source": [
    "6) Write a program to calculate the electricity bill (accept number of unit from user) according to the following criteria :\n",
    "     Unit                                                     Price  \n",
    "uptp 100 units                                             no charge\n",
    "Next 200 units                                              Rs 5 per unit\n",
    "After 200 units                                             Rs 10 per unit\n",
    "(For example if input unit is 350 than total bill amount is Rs.3500\n",
    "(For example if input unit is 97 than total bill amount is Rs.0\n",
    "(For example if input unit is 150 than total bill amount is Rs.750"
   ]
  },
  {
   "cell_type": "code",
   "execution_count": 83,
   "metadata": {},
   "outputs": [
    {
     "name": "stdin",
     "output_type": "stream",
     "text": [
      "Enter number of units:  1000\n"
     ]
    },
    {
     "name": "stdout",
     "output_type": "stream",
     "text": [
      "Total bill amount is Rs. 8000\n"
     ]
    }
   ],
   "source": [
    "units = int(input(\"Enter number of units: \"))\n",
    "bill = 0\n",
    "\n",
    "if units <= 100:\n",
    "    bill = 0\n",
    "elif units <= 300:\n",
    "    bill = (units - 100) * 5\n",
    "else:\n",
    "    bill = (200 * 5) + (units - 300) * 10\n",
    "print(\"Total bill amount is Rs.\", bill)"
   ]
  },
  {
   "cell_type": "markdown",
   "metadata": {},
   "source": [
    "13) Take input of age of 3 people by user and determine oldest and youngest among them."
   ]
  },
  {
   "cell_type": "code",
   "execution_count": 84,
   "metadata": {},
   "outputs": [
    {
     "name": "stdin",
     "output_type": "stream",
     "text": [
      "Enter age of first person:  16\n",
      "Enter age of second person:  20\n",
      "Enter age of third person:  12\n"
     ]
    },
    {
     "name": "stdout",
     "output_type": "stream",
     "text": [
      "The oldest age is: 20\n",
      "The youngest age is: 12\n"
     ]
    }
   ],
   "source": [
    "age1 = int(input(\"Enter age of first person: \"))\n",
    "age2 = int(input(\"Enter age of second person: \"))\n",
    "age3 = int(input(\"Enter age of third person: \"))\n",
    "\n",
    "oldest = max(age1, age2, age3)\n",
    "youngest = min(age1, age2, age3)\n",
    "\n",
    "print(\"The oldest age is:\", oldest)\n",
    "print(\"The youngest age is:\", youngest)"
   ]
  }
 ],
 "metadata": {
  "kernelspec": {
   "display_name": "Python 3 (ipykernel)",
   "language": "python",
   "name": "python3"
  },
  "language_info": {
   "codemirror_mode": {
    "name": "ipython",
    "version": 3
   },
   "file_extension": ".py",
   "mimetype": "text/x-python",
   "name": "python",
   "nbconvert_exporter": "python",
   "pygments_lexer": "ipython3",
   "version": "3.13.5"
  }
 },
 "nbformat": 4,
 "nbformat_minor": 4
}
